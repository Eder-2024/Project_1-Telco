{
 "cells": [
  {
   "cell_type": "code",
   "execution_count": 37,
   "id": "79ce25a5-0395-428c-b0df-ce83690aa7a3",
   "metadata": {},
   "outputs": [
    {
     "data": {
      "text/html": [
       "<div>\n",
       "<style scoped>\n",
       "    .dataframe tbody tr th:only-of-type {\n",
       "        vertical-align: middle;\n",
       "    }\n",
       "\n",
       "    .dataframe tbody tr th {\n",
       "        vertical-align: top;\n",
       "    }\n",
       "\n",
       "    .dataframe thead th {\n",
       "        text-align: right;\n",
       "    }\n",
       "</style>\n",
       "<table border=\"1\" class=\"dataframe\">\n",
       "  <thead>\n",
       "    <tr style=\"text-align: right;\">\n",
       "      <th></th>\n",
       "      <th>customerID</th>\n",
       "      <th>gender</th>\n",
       "      <th>SeniorCitizen</th>\n",
       "      <th>Partner</th>\n",
       "      <th>Dependents</th>\n",
       "      <th>tenure</th>\n",
       "      <th>PhoneService</th>\n",
       "      <th>MultipleLines</th>\n",
       "      <th>InternetService</th>\n",
       "      <th>OnlineSecurity</th>\n",
       "      <th>...</th>\n",
       "      <th>TechSupport</th>\n",
       "      <th>StreamingTV</th>\n",
       "      <th>StreamingMovies</th>\n",
       "      <th>Contract</th>\n",
       "      <th>PaperlessBilling</th>\n",
       "      <th>PaymentMethod</th>\n",
       "      <th>MonthlyCharges</th>\n",
       "      <th>TotalCharges</th>\n",
       "      <th>Churn</th>\n",
       "      <th>Unnamed: 21</th>\n",
       "    </tr>\n",
       "  </thead>\n",
       "  <tbody>\n",
       "    <tr>\n",
       "      <th>0</th>\n",
       "      <td>7590-VHVEG</td>\n",
       "      <td>Female</td>\n",
       "      <td>0</td>\n",
       "      <td>Yes</td>\n",
       "      <td>No</td>\n",
       "      <td>1</td>\n",
       "      <td>No</td>\n",
       "      <td>No phone service</td>\n",
       "      <td>DSL</td>\n",
       "      <td>No</td>\n",
       "      <td>...</td>\n",
       "      <td>No</td>\n",
       "      <td>No</td>\n",
       "      <td>No</td>\n",
       "      <td>Month-to-month</td>\n",
       "      <td>Yes</td>\n",
       "      <td>Electronic check</td>\n",
       "      <td>29.85</td>\n",
       "      <td>29.85</td>\n",
       "      <td>No</td>\n",
       "      <td>1</td>\n",
       "    </tr>\n",
       "    <tr>\n",
       "      <th>1</th>\n",
       "      <td>5575-GNVDE</td>\n",
       "      <td>Male</td>\n",
       "      <td>0</td>\n",
       "      <td>No</td>\n",
       "      <td>No</td>\n",
       "      <td>34</td>\n",
       "      <td>Yes</td>\n",
       "      <td>No</td>\n",
       "      <td>DSL</td>\n",
       "      <td>Yes</td>\n",
       "      <td>...</td>\n",
       "      <td>No</td>\n",
       "      <td>No</td>\n",
       "      <td>No</td>\n",
       "      <td>One year</td>\n",
       "      <td>No</td>\n",
       "      <td>Mailed check</td>\n",
       "      <td>56.95</td>\n",
       "      <td>1889.5</td>\n",
       "      <td>No</td>\n",
       "      <td>33.17822651</td>\n",
       "    </tr>\n",
       "    <tr>\n",
       "      <th>2</th>\n",
       "      <td>3668-QPYBK</td>\n",
       "      <td>Male</td>\n",
       "      <td>0</td>\n",
       "      <td>No</td>\n",
       "      <td>No</td>\n",
       "      <td>2</td>\n",
       "      <td>Yes</td>\n",
       "      <td>No</td>\n",
       "      <td>DSL</td>\n",
       "      <td>Yes</td>\n",
       "      <td>...</td>\n",
       "      <td>No</td>\n",
       "      <td>No</td>\n",
       "      <td>No</td>\n",
       "      <td>Month-to-month</td>\n",
       "      <td>Yes</td>\n",
       "      <td>Mailed check</td>\n",
       "      <td>53.85</td>\n",
       "      <td>108.15</td>\n",
       "      <td>Yes</td>\n",
       "      <td>2.008356546</td>\n",
       "    </tr>\n",
       "    <tr>\n",
       "      <th>3</th>\n",
       "      <td>7795-CFOCW</td>\n",
       "      <td>Male</td>\n",
       "      <td>0</td>\n",
       "      <td>No</td>\n",
       "      <td>No</td>\n",
       "      <td>45</td>\n",
       "      <td>No</td>\n",
       "      <td>No phone service</td>\n",
       "      <td>DSL</td>\n",
       "      <td>Yes</td>\n",
       "      <td>...</td>\n",
       "      <td>Yes</td>\n",
       "      <td>No</td>\n",
       "      <td>No</td>\n",
       "      <td>One year</td>\n",
       "      <td>No</td>\n",
       "      <td>Bank transfer (automatic)</td>\n",
       "      <td>42.30</td>\n",
       "      <td>1840.75</td>\n",
       "      <td>No</td>\n",
       "      <td>43.51654846</td>\n",
       "    </tr>\n",
       "    <tr>\n",
       "      <th>4</th>\n",
       "      <td>9237-HQITU</td>\n",
       "      <td>Female</td>\n",
       "      <td>0</td>\n",
       "      <td>No</td>\n",
       "      <td>No</td>\n",
       "      <td>2</td>\n",
       "      <td>Yes</td>\n",
       "      <td>No</td>\n",
       "      <td>Fiber optic</td>\n",
       "      <td>No</td>\n",
       "      <td>...</td>\n",
       "      <td>No</td>\n",
       "      <td>No</td>\n",
       "      <td>No</td>\n",
       "      <td>Month-to-month</td>\n",
       "      <td>Yes</td>\n",
       "      <td>Electronic check</td>\n",
       "      <td>70.70</td>\n",
       "      <td>151.65</td>\n",
       "      <td>Yes</td>\n",
       "      <td>2.144978784</td>\n",
       "    </tr>\n",
       "  </tbody>\n",
       "</table>\n",
       "<p>5 rows × 22 columns</p>\n",
       "</div>"
      ],
      "text/plain": [
       "   customerID  gender  SeniorCitizen Partner Dependents  tenure PhoneService  \\\n",
       "0  7590-VHVEG  Female              0     Yes         No       1           No   \n",
       "1  5575-GNVDE    Male              0      No         No      34          Yes   \n",
       "2  3668-QPYBK    Male              0      No         No       2          Yes   \n",
       "3  7795-CFOCW    Male              0      No         No      45           No   \n",
       "4  9237-HQITU  Female              0      No         No       2          Yes   \n",
       "\n",
       "      MultipleLines InternetService OnlineSecurity  ... TechSupport  \\\n",
       "0  No phone service             DSL             No  ...          No   \n",
       "1                No             DSL            Yes  ...          No   \n",
       "2                No             DSL            Yes  ...          No   \n",
       "3  No phone service             DSL            Yes  ...         Yes   \n",
       "4                No     Fiber optic             No  ...          No   \n",
       "\n",
       "  StreamingTV StreamingMovies        Contract PaperlessBilling  \\\n",
       "0          No              No  Month-to-month              Yes   \n",
       "1          No              No        One year               No   \n",
       "2          No              No  Month-to-month              Yes   \n",
       "3          No              No        One year               No   \n",
       "4          No              No  Month-to-month              Yes   \n",
       "\n",
       "               PaymentMethod MonthlyCharges TotalCharges  Churn  Unnamed: 21  \n",
       "0           Electronic check          29.85        29.85     No            1  \n",
       "1               Mailed check          56.95       1889.5     No  33.17822651  \n",
       "2               Mailed check          53.85       108.15    Yes  2.008356546  \n",
       "3  Bank transfer (automatic)          42.30      1840.75     No  43.51654846  \n",
       "4           Electronic check          70.70       151.65    Yes  2.144978784  \n",
       "\n",
       "[5 rows x 22 columns]"
      ]
     },
     "execution_count": 37,
     "metadata": {},
     "output_type": "execute_result"
    }
   ],
   "source": [
    "# Dependencies and Setup\n",
    "import matplotlib.pyplot as plt\n",
    "import pandas as pd\n",
    "import numpy as np\n",
    "from scipy.stats import linregress,chi2_contingency\n",
    "import scipy.stats as st\n",
    "\n",
    "# Path where csv file is located\n",
    "data_path = \"../csv_file/WA_Fn-UseC_-Telco-Customer-Churn.csv\" \n",
    "#Reading the csv file\n",
    "data_churn = pd.read_csv(data_path)\n",
    "#Reading csv file\n",
    "data_churn.head() "
   ]
  },
  {
   "cell_type": "code",
   "execution_count": 3,
   "id": "1ac73834-03c8-4b6a-86fb-8e082b2841fa",
   "metadata": {},
   "outputs": [
    {
     "data": {
      "text/plain": [
       "7043"
      ]
     },
     "execution_count": 3,
     "metadata": {},
     "output_type": "execute_result"
    }
   ],
   "source": [
    "# Checking the number of customerid.\n",
    "customerid_count=len(data_churn['customerID'].value_counts())\n",
    "customerid_count"
   ]
  },
  {
   "cell_type": "code",
   "execution_count": 4,
   "id": "8a5e204f-45dc-468b-a240-164ab0b41cf7",
   "metadata": {},
   "outputs": [
    {
     "data": {
      "text/plain": [
       "7043"
      ]
     },
     "execution_count": 4,
     "metadata": {},
     "output_type": "execute_result"
    }
   ],
   "source": [
    "#Counting unique values\n",
    "unique_customerID = data_churn['customerID'].nunique()\n",
    "unique_customerID"
   ]
  },
  {
   "cell_type": "code",
   "execution_count": 5,
   "id": "8d71c86c-a027-415d-a80a-bd0cc620a600",
   "metadata": {},
   "outputs": [
    {
     "data": {
      "text/plain": [
       "(7043, 22)"
      ]
     },
     "execution_count": 5,
     "metadata": {},
     "output_type": "execute_result"
    }
   ],
   "source": [
    "#CHecking shape\n",
    "data_churn.shape"
   ]
  },
  {
   "cell_type": "code",
   "execution_count": 6,
   "id": "f216f152-f662-4d18-a860-2eabed548c93",
   "metadata": {},
   "outputs": [
    {
     "data": {
      "text/plain": [
       "Index(['customerID', 'gender', 'SeniorCitizen', 'Partner', 'Dependents',\n",
       "       'tenure', 'PhoneService', 'MultipleLines', 'InternetService',\n",
       "       'OnlineSecurity', 'OnlineBackup', 'DeviceProtection', 'TechSupport',\n",
       "       'StreamingTV', 'StreamingMovies', 'Contract', 'PaperlessBilling',\n",
       "       'PaymentMethod', 'MonthlyCharges', 'TotalCharges', 'Churn',\n",
       "       'Unnamed: 21'],\n",
       "      dtype='object')"
      ]
     },
     "execution_count": 6,
     "metadata": {},
     "output_type": "execute_result"
    }
   ],
   "source": [
    "#checking columns\n",
    "data_churn.columns"
   ]
  },
  {
   "cell_type": "code",
   "execution_count": 7,
   "id": "e00cc6cf-4146-459a-a84c-342c11be75cd",
   "metadata": {},
   "outputs": [
    {
     "name": "stdout",
     "output_type": "stream",
     "text": [
      "<class 'pandas.core.frame.DataFrame'>\n",
      "RangeIndex: 7043 entries, 0 to 7042\n",
      "Data columns (total 22 columns):\n",
      " #   Column            Non-Null Count  Dtype  \n",
      "---  ------            --------------  -----  \n",
      " 0   customerID        7043 non-null   object \n",
      " 1   gender            7043 non-null   object \n",
      " 2   SeniorCitizen     7043 non-null   int64  \n",
      " 3   Partner           7043 non-null   object \n",
      " 4   Dependents        7043 non-null   object \n",
      " 5   tenure            7043 non-null   int64  \n",
      " 6   PhoneService      7043 non-null   object \n",
      " 7   MultipleLines     7043 non-null   object \n",
      " 8   InternetService   7043 non-null   object \n",
      " 9   OnlineSecurity    7043 non-null   object \n",
      " 10  OnlineBackup      7043 non-null   object \n",
      " 11  DeviceProtection  7043 non-null   object \n",
      " 12  TechSupport       7043 non-null   object \n",
      " 13  StreamingTV       7043 non-null   object \n",
      " 14  StreamingMovies   7043 non-null   object \n",
      " 15  Contract          7043 non-null   object \n",
      " 16  PaperlessBilling  7043 non-null   object \n",
      " 17  PaymentMethod     7043 non-null   object \n",
      " 18  MonthlyCharges    7043 non-null   float64\n",
      " 19  TotalCharges      7043 non-null   object \n",
      " 20  Churn             7043 non-null   object \n",
      " 21  Unnamed: 21       7043 non-null   object \n",
      "dtypes: float64(1), int64(2), object(19)\n",
      "memory usage: 1.2+ MB\n"
     ]
    }
   ],
   "source": [
    "#Getting information from dataframe\n",
    "data_churn.info()"
   ]
  },
  {
   "cell_type": "code",
   "execution_count": 8,
   "id": "c0800243-1f38-4537-8707-437771c0da3e",
   "metadata": {},
   "outputs": [
    {
     "data": {
      "text/plain": [
       "customerID          7043\n",
       "gender              7043\n",
       "SeniorCitizen       7043\n",
       "Partner             7043\n",
       "Dependents          7043\n",
       "tenure              7043\n",
       "PhoneService        7043\n",
       "MultipleLines       7043\n",
       "InternetService     7043\n",
       "OnlineSecurity      7043\n",
       "OnlineBackup        7043\n",
       "DeviceProtection    7043\n",
       "TechSupport         7043\n",
       "StreamingTV         7043\n",
       "StreamingMovies     7043\n",
       "Contract            7043\n",
       "PaperlessBilling    7043\n",
       "PaymentMethod       7043\n",
       "MonthlyCharges      7043\n",
       "TotalCharges        7043\n",
       "Churn               7043\n",
       "Unnamed: 21         7043\n",
       "dtype: int64"
      ]
     },
     "execution_count": 8,
     "metadata": {},
     "output_type": "execute_result"
    }
   ],
   "source": [
    "#Counting cell in the total of columns\n",
    "data_churn.count()"
   ]
  },
  {
   "cell_type": "code",
   "execution_count": 9,
   "id": "2a6b77d8-760b-4040-b308-a1a8eb252857",
   "metadata": {},
   "outputs": [
    {
     "name": "stdout",
     "output_type": "stream",
     "text": [
      "      customerID  gender  SeniorCitizen  Partner  Dependents  tenure  \\\n",
      "0          False   False          False    False       False   False   \n",
      "1          False   False          False    False       False   False   \n",
      "2          False   False          False    False       False   False   \n",
      "3          False   False          False    False       False   False   \n",
      "4          False   False          False    False       False   False   \n",
      "...          ...     ...            ...      ...         ...     ...   \n",
      "7038       False   False          False    False       False   False   \n",
      "7039       False   False          False    False       False   False   \n",
      "7040       False   False          False    False       False   False   \n",
      "7041       False   False          False    False       False   False   \n",
      "7042       False   False          False    False       False   False   \n",
      "\n",
      "      PhoneService  MultipleLines  InternetService  OnlineSecurity  ...  \\\n",
      "0            False          False            False           False  ...   \n",
      "1            False          False            False           False  ...   \n",
      "2            False          False            False           False  ...   \n",
      "3            False          False            False           False  ...   \n",
      "4            False          False            False           False  ...   \n",
      "...            ...            ...              ...             ...  ...   \n",
      "7038         False          False            False           False  ...   \n",
      "7039         False          False            False           False  ...   \n",
      "7040         False          False            False           False  ...   \n",
      "7041         False          False            False           False  ...   \n",
      "7042         False          False            False           False  ...   \n",
      "\n",
      "      TechSupport  StreamingTV  StreamingMovies  Contract  PaperlessBilling  \\\n",
      "0           False        False            False     False             False   \n",
      "1           False        False            False     False             False   \n",
      "2           False        False            False     False             False   \n",
      "3           False        False            False     False             False   \n",
      "4           False        False            False     False             False   \n",
      "...           ...          ...              ...       ...               ...   \n",
      "7038        False        False            False     False             False   \n",
      "7039        False        False            False     False             False   \n",
      "7040        False        False            False     False             False   \n",
      "7041        False        False            False     False             False   \n",
      "7042        False        False            False     False             False   \n",
      "\n",
      "      PaymentMethod  MonthlyCharges  TotalCharges  Churn  Unnamed: 21  \n",
      "0             False           False         False  False        False  \n",
      "1             False           False         False  False        False  \n",
      "2             False           False         False  False        False  \n",
      "3             False           False         False  False        False  \n",
      "4             False           False         False  False        False  \n",
      "...             ...             ...           ...    ...          ...  \n",
      "7038          False           False         False  False        False  \n",
      "7039          False           False         False  False        False  \n",
      "7040          False           False         False  False        False  \n",
      "7041          False           False         False  False        False  \n",
      "7042          False           False         False  False        False  \n",
      "\n",
      "[7043 rows x 22 columns]\n"
     ]
    },
    {
     "name": "stderr",
     "output_type": "stream",
     "text": [
      "C:\\Users\\eek_e\\AppData\\Local\\Temp\\ipykernel_16456\\3782148306.py:2: FutureWarning: DataFrame.applymap has been deprecated. Use DataFrame.map instead.\n",
      "  blank_cells = data_churn.applymap(lambda x: pd.isna(x) or x == '')\n"
     ]
    }
   ],
   "source": [
    "#Verifying cell in blank\n",
    "blank_cells = data_churn.applymap(lambda x: pd.isna(x) or x == '')\n",
    "print(blank_cells)"
   ]
  },
  {
   "cell_type": "code",
   "execution_count": 10,
   "id": "3cc41b12-8916-45f4-ab81-e5580e0f572b",
   "metadata": {},
   "outputs": [
    {
     "name": "stdout",
     "output_type": "stream",
     "text": [
      "<class 'pandas.core.frame.DataFrame'>\n",
      "RangeIndex: 7043 entries, 0 to 7042\n",
      "Data columns (total 22 columns):\n",
      " #   Column            Non-Null Count  Dtype  \n",
      "---  ------            --------------  -----  \n",
      " 0   customerID        7043 non-null   object \n",
      " 1   gender            7043 non-null   object \n",
      " 2   SeniorCitizen     7043 non-null   int64  \n",
      " 3   Partner           7043 non-null   object \n",
      " 4   Dependents        7043 non-null   object \n",
      " 5   tenure            7043 non-null   int64  \n",
      " 6   PhoneService      7043 non-null   object \n",
      " 7   MultipleLines     7043 non-null   object \n",
      " 8   InternetService   7043 non-null   object \n",
      " 9   OnlineSecurity    7043 non-null   object \n",
      " 10  OnlineBackup      7043 non-null   object \n",
      " 11  DeviceProtection  7043 non-null   object \n",
      " 12  TechSupport       7043 non-null   object \n",
      " 13  StreamingTV       7043 non-null   object \n",
      " 14  StreamingMovies   7043 non-null   object \n",
      " 15  Contract          7043 non-null   object \n",
      " 16  PaperlessBilling  7043 non-null   object \n",
      " 17  PaymentMethod     7043 non-null   object \n",
      " 18  MonthlyCharges    7043 non-null   float64\n",
      " 19  TotalCharges      7043 non-null   float64\n",
      " 20  Churn             7043 non-null   object \n",
      " 21  Unnamed: 21       7043 non-null   object \n",
      "dtypes: float64(2), int64(2), object(18)\n",
      "memory usage: 1.2+ MB\n"
     ]
    }
   ],
   "source": [
    "#Since we got an error while converting to float. so we are just adding 0 to the empty cells and corverting the column to float\n",
    "data_churn['TotalCharges'] = pd.to_numeric(data_churn['TotalCharges'], errors='coerce')\n",
    "data_churn['TotalCharges'] = data_churn['TotalCharges'].fillna(0)\n",
    "data_churn['TotalCharges'] = data_churn['TotalCharges'].astype(float)\n",
    "data_churn.info()\n"
   ]
  },
  {
   "cell_type": "code",
   "execution_count": 11,
   "id": "e8ec36c3-876b-4403-a6cc-4f0670152b70",
   "metadata": {},
   "outputs": [
    {
     "data": {
      "text/plain": [
       "11"
      ]
     },
     "execution_count": 11,
     "metadata": {},
     "output_type": "execute_result"
    }
   ],
   "source": [
    "#counting how many cells are == 0\n",
    "count_totalcharges_0_values = (data_churn['TotalCharges'] == 0).sum()\n",
    "count_totalcharges_0_values"
   ]
  },
  {
   "cell_type": "code",
   "execution_count": 12,
   "id": "363eab4d-7ff4-467b-a568-b3a560d8054a",
   "metadata": {},
   "outputs": [
    {
     "data": {
      "text/plain": [
       "customerID          7032\n",
       "gender              7032\n",
       "SeniorCitizen       7032\n",
       "Partner             7032\n",
       "Dependents          7032\n",
       "tenure              7032\n",
       "PhoneService        7032\n",
       "MultipleLines       7032\n",
       "InternetService     7032\n",
       "OnlineSecurity      7032\n",
       "OnlineBackup        7032\n",
       "DeviceProtection    7032\n",
       "TechSupport         7032\n",
       "StreamingTV         7032\n",
       "StreamingMovies     7032\n",
       "Contract            7032\n",
       "PaperlessBilling    7032\n",
       "PaymentMethod       7032\n",
       "MonthlyCharges      7032\n",
       "TotalCharges        7032\n",
       "Churn               7032\n",
       "Unnamed: 21         7032\n",
       "dtype: int64"
      ]
     },
     "execution_count": 12,
     "metadata": {},
     "output_type": "execute_result"
    }
   ],
   "source": [
    "#droping rows where TotalCharges==0\n",
    "data_churn = data_churn[data_churn['TotalCharges'] != 0]\n",
    "data_churn.count()"
   ]
  },
  {
   "cell_type": "code",
   "execution_count": 13,
   "id": "b57e783f-04cd-4e8f-b0f1-e0e4c943462a",
   "metadata": {},
   "outputs": [
    {
     "data": {
      "text/html": [
       "<div>\n",
       "<style scoped>\n",
       "    .dataframe tbody tr th:only-of-type {\n",
       "        vertical-align: middle;\n",
       "    }\n",
       "\n",
       "    .dataframe tbody tr th {\n",
       "        vertical-align: top;\n",
       "    }\n",
       "\n",
       "    .dataframe thead th {\n",
       "        text-align: right;\n",
       "    }\n",
       "</style>\n",
       "<table border=\"1\" class=\"dataframe\">\n",
       "  <thead>\n",
       "    <tr style=\"text-align: right;\">\n",
       "      <th></th>\n",
       "      <th>gender</th>\n",
       "      <th>SeniorCitizen</th>\n",
       "      <th>Partner</th>\n",
       "      <th>Dependents</th>\n",
       "      <th>tenure</th>\n",
       "      <th>PhoneService</th>\n",
       "      <th>MultipleLines</th>\n",
       "      <th>InternetService</th>\n",
       "      <th>OnlineSecurity</th>\n",
       "      <th>OnlineBackup</th>\n",
       "      <th>...</th>\n",
       "      <th>TechSupport</th>\n",
       "      <th>StreamingTV</th>\n",
       "      <th>StreamingMovies</th>\n",
       "      <th>Contract</th>\n",
       "      <th>PaperlessBilling</th>\n",
       "      <th>PaymentMethod</th>\n",
       "      <th>MonthlyCharges</th>\n",
       "      <th>TotalCharges</th>\n",
       "      <th>Churn</th>\n",
       "      <th>Unnamed: 21</th>\n",
       "    </tr>\n",
       "  </thead>\n",
       "  <tbody>\n",
       "    <tr>\n",
       "      <th>0</th>\n",
       "      <td>Female</td>\n",
       "      <td>0</td>\n",
       "      <td>Yes</td>\n",
       "      <td>No</td>\n",
       "      <td>1</td>\n",
       "      <td>No</td>\n",
       "      <td>No phone service</td>\n",
       "      <td>DSL</td>\n",
       "      <td>No</td>\n",
       "      <td>Yes</td>\n",
       "      <td>...</td>\n",
       "      <td>No</td>\n",
       "      <td>No</td>\n",
       "      <td>No</td>\n",
       "      <td>Month-to-month</td>\n",
       "      <td>Yes</td>\n",
       "      <td>Electronic check</td>\n",
       "      <td>29.85</td>\n",
       "      <td>29.85</td>\n",
       "      <td>No</td>\n",
       "      <td>1</td>\n",
       "    </tr>\n",
       "    <tr>\n",
       "      <th>1</th>\n",
       "      <td>Male</td>\n",
       "      <td>0</td>\n",
       "      <td>No</td>\n",
       "      <td>No</td>\n",
       "      <td>34</td>\n",
       "      <td>Yes</td>\n",
       "      <td>No</td>\n",
       "      <td>DSL</td>\n",
       "      <td>Yes</td>\n",
       "      <td>No</td>\n",
       "      <td>...</td>\n",
       "      <td>No</td>\n",
       "      <td>No</td>\n",
       "      <td>No</td>\n",
       "      <td>One year</td>\n",
       "      <td>No</td>\n",
       "      <td>Mailed check</td>\n",
       "      <td>56.95</td>\n",
       "      <td>1889.50</td>\n",
       "      <td>No</td>\n",
       "      <td>33.17822651</td>\n",
       "    </tr>\n",
       "    <tr>\n",
       "      <th>2</th>\n",
       "      <td>Male</td>\n",
       "      <td>0</td>\n",
       "      <td>No</td>\n",
       "      <td>No</td>\n",
       "      <td>2</td>\n",
       "      <td>Yes</td>\n",
       "      <td>No</td>\n",
       "      <td>DSL</td>\n",
       "      <td>Yes</td>\n",
       "      <td>Yes</td>\n",
       "      <td>...</td>\n",
       "      <td>No</td>\n",
       "      <td>No</td>\n",
       "      <td>No</td>\n",
       "      <td>Month-to-month</td>\n",
       "      <td>Yes</td>\n",
       "      <td>Mailed check</td>\n",
       "      <td>53.85</td>\n",
       "      <td>108.15</td>\n",
       "      <td>Yes</td>\n",
       "      <td>2.008356546</td>\n",
       "    </tr>\n",
       "    <tr>\n",
       "      <th>3</th>\n",
       "      <td>Male</td>\n",
       "      <td>0</td>\n",
       "      <td>No</td>\n",
       "      <td>No</td>\n",
       "      <td>45</td>\n",
       "      <td>No</td>\n",
       "      <td>No phone service</td>\n",
       "      <td>DSL</td>\n",
       "      <td>Yes</td>\n",
       "      <td>No</td>\n",
       "      <td>...</td>\n",
       "      <td>Yes</td>\n",
       "      <td>No</td>\n",
       "      <td>No</td>\n",
       "      <td>One year</td>\n",
       "      <td>No</td>\n",
       "      <td>Bank transfer (automatic)</td>\n",
       "      <td>42.30</td>\n",
       "      <td>1840.75</td>\n",
       "      <td>No</td>\n",
       "      <td>43.51654846</td>\n",
       "    </tr>\n",
       "    <tr>\n",
       "      <th>4</th>\n",
       "      <td>Female</td>\n",
       "      <td>0</td>\n",
       "      <td>No</td>\n",
       "      <td>No</td>\n",
       "      <td>2</td>\n",
       "      <td>Yes</td>\n",
       "      <td>No</td>\n",
       "      <td>Fiber optic</td>\n",
       "      <td>No</td>\n",
       "      <td>No</td>\n",
       "      <td>...</td>\n",
       "      <td>No</td>\n",
       "      <td>No</td>\n",
       "      <td>No</td>\n",
       "      <td>Month-to-month</td>\n",
       "      <td>Yes</td>\n",
       "      <td>Electronic check</td>\n",
       "      <td>70.70</td>\n",
       "      <td>151.65</td>\n",
       "      <td>Yes</td>\n",
       "      <td>2.144978784</td>\n",
       "    </tr>\n",
       "  </tbody>\n",
       "</table>\n",
       "<p>5 rows × 21 columns</p>\n",
       "</div>"
      ],
      "text/plain": [
       "   gender  SeniorCitizen Partner Dependents  tenure PhoneService  \\\n",
       "0  Female              0     Yes         No       1           No   \n",
       "1    Male              0      No         No      34          Yes   \n",
       "2    Male              0      No         No       2          Yes   \n",
       "3    Male              0      No         No      45           No   \n",
       "4  Female              0      No         No       2          Yes   \n",
       "\n",
       "      MultipleLines InternetService OnlineSecurity OnlineBackup  ...  \\\n",
       "0  No phone service             DSL             No          Yes  ...   \n",
       "1                No             DSL            Yes           No  ...   \n",
       "2                No             DSL            Yes          Yes  ...   \n",
       "3  No phone service             DSL            Yes           No  ...   \n",
       "4                No     Fiber optic             No           No  ...   \n",
       "\n",
       "  TechSupport StreamingTV StreamingMovies        Contract PaperlessBilling  \\\n",
       "0          No          No              No  Month-to-month              Yes   \n",
       "1          No          No              No        One year               No   \n",
       "2          No          No              No  Month-to-month              Yes   \n",
       "3         Yes          No              No        One year               No   \n",
       "4          No          No              No  Month-to-month              Yes   \n",
       "\n",
       "               PaymentMethod MonthlyCharges  TotalCharges  Churn  Unnamed: 21  \n",
       "0           Electronic check          29.85         29.85     No            1  \n",
       "1               Mailed check          56.95       1889.50     No  33.17822651  \n",
       "2               Mailed check          53.85        108.15    Yes  2.008356546  \n",
       "3  Bank transfer (automatic)          42.30       1840.75     No  43.51654846  \n",
       "4           Electronic check          70.70        151.65    Yes  2.144978784  \n",
       "\n",
       "[5 rows x 21 columns]"
      ]
     },
     "execution_count": 13,
     "metadata": {},
     "output_type": "execute_result"
    }
   ],
   "source": [
    "#dropping customerID since we don't need it. We are going to use the default index as unique key.\n",
    "data_churn = data_churn.drop(columns=['customerID'])\n",
    "data_churn.head()"
   ]
  },
  {
   "cell_type": "code",
   "execution_count": 15,
   "id": "eb2f97c5-b7e5-4b9e-86f3-d6d9b7d5c153",
   "metadata": {},
   "outputs": [
    {
     "data": {
      "image/png": "[encoded data removed]",
      "text/plain": [
       "<Figure size 640x480 with 1 Axes>"
      ]
     },
     "metadata": {},
     "output_type": "display_data"
    }
   ],
   "source": [
    "#PLoting Churn Distribution\n",
    "test = data_churn['Churn'].value_counts()\n",
    "label = ['No', 'Yes']\n",
    "plt.pie(test,labels=label, autopct='%1.1f%%',colors=['green', 'red'],startangle=90)\n",
    "plt.title('Churn Distribution')\n",
    "# plt.savefig(\"Plot/ChurnDistribution.png\")\n",
    "plt.show()"
   ]
  },
  {
   "cell_type": "code",
   "execution_count": 16,
   "id": "104e696a-63ef-4ab3-aee7-dcd3affd84c5",
   "metadata": {},
   "outputs": [
    {
     "data": {
      "text/html": [
       "<div>\n",
       "<style scoped>\n",
       "    .dataframe tbody tr th:only-of-type {\n",
       "        vertical-align: middle;\n",
       "    }\n",
       "\n",
       "    .dataframe tbody tr th {\n",
       "        vertical-align: top;\n",
       "    }\n",
       "\n",
       "    .dataframe thead th {\n",
       "        text-align: right;\n",
       "    }\n",
       "</style>\n",
       "<table border=\"1\" class=\"dataframe\">\n",
       "  <thead>\n",
       "    <tr style=\"text-align: right;\">\n",
       "      <th></th>\n",
       "      <th>count</th>\n",
       "      <th>mean</th>\n",
       "      <th>std</th>\n",
       "      <th>min</th>\n",
       "      <th>25%</th>\n",
       "      <th>50%</th>\n",
       "      <th>75%</th>\n",
       "      <th>max</th>\n",
       "    </tr>\n",
       "  </thead>\n",
       "  <tbody>\n",
       "    <tr>\n",
       "      <th>MonthlyCharges</th>\n",
       "      <td>7032.0</td>\n",
       "      <td>64.798208</td>\n",
       "      <td>30.085974</td>\n",
       "      <td>18.25</td>\n",
       "      <td>35.5875</td>\n",
       "      <td>70.35</td>\n",
       "      <td>89.8625</td>\n",
       "      <td>118.75</td>\n",
       "    </tr>\n",
       "    <tr>\n",
       "      <th>tenure</th>\n",
       "      <td>7032.0</td>\n",
       "      <td>32.421786</td>\n",
       "      <td>24.545260</td>\n",
       "      <td>1.00</td>\n",
       "      <td>9.0000</td>\n",
       "      <td>29.00</td>\n",
       "      <td>55.0000</td>\n",
       "      <td>72.00</td>\n",
       "    </tr>\n",
       "  </tbody>\n",
       "</table>\n",
       "</div>"
      ],
      "text/plain": [
       "                 count       mean        std    min      25%    50%      75%  \\\n",
       "MonthlyCharges  7032.0  64.798208  30.085974  18.25  35.5875  70.35  89.8625   \n",
       "tenure          7032.0  32.421786  24.545260   1.00   9.0000  29.00  55.0000   \n",
       "\n",
       "                   max  \n",
       "MonthlyCharges  118.75  \n",
       "tenure           72.00  "
      ]
     },
     "execution_count": 16,
     "metadata": {},
     "output_type": "execute_result"
    }
   ],
   "source": [
    "#describing the data only 2 numerical columns\n",
    "data_churn[['MonthlyCharges', 'tenure']].describe().T"
   ]
  },
  {
   "cell_type": "code",
   "execution_count": 17,
   "id": "2ea0f19a-463a-4e58-a3f1-4e3a4db0a209",
   "metadata": {},
   "outputs": [
    {
     "data": {
      "text/html": [
       "<div>\n",
       "<style scoped>\n",
       "    .dataframe tbody tr th:only-of-type {\n",
       "        vertical-align: middle;\n",
       "    }\n",
       "\n",
       "    .dataframe tbody tr th {\n",
       "        vertical-align: top;\n",
       "    }\n",
       "\n",
       "    .dataframe thead th {\n",
       "        text-align: right;\n",
       "    }\n",
       "</style>\n",
       "<table border=\"1\" class=\"dataframe\">\n",
       "  <thead>\n",
       "    <tr style=\"text-align: right;\">\n",
       "      <th>Churn</th>\n",
       "      <th>No</th>\n",
       "      <th>Yes</th>\n",
       "    </tr>\n",
       "    <tr>\n",
       "      <th>SeniorCitizen</th>\n",
       "      <th></th>\n",
       "      <th></th>\n",
       "    </tr>\n",
       "  </thead>\n",
       "  <tbody>\n",
       "    <tr>\n",
       "      <th>0</th>\n",
       "      <td>76.349745</td>\n",
       "      <td>23.650255</td>\n",
       "    </tr>\n",
       "    <tr>\n",
       "      <th>1</th>\n",
       "      <td>58.318739</td>\n",
       "      <td>41.681261</td>\n",
       "    </tr>\n",
       "  </tbody>\n",
       "</table>\n",
       "</div>"
      ],
      "text/plain": [
       "Churn                 No        Yes\n",
       "SeniorCitizen                      \n",
       "0              76.349745  23.650255\n",
       "1              58.318739  41.681261"
      ]
     },
     "execution_count": 17,
     "metadata": {},
     "output_type": "execute_result"
    }
   ],
   "source": [
    "#Senior and Non-Senior Citizens Churn Table \n",
    "senior_churn_rate = data_churn.groupby('SeniorCitizen')['Churn'].value_counts(normalize=True).unstack() # taking this from https://pandas.pydata.org/docs/reference/api/pandas.Series.value_counts.html\n",
    "senior_churn_rate['No'] = senior_churn_rate['No']*100\n",
    "senior_churn_rate['Yes'] = senior_churn_rate['Yes']*100\n",
    "senior_churn_rate"
   ]
  },
  {
   "cell_type": "code",
   "execution_count": 19,
   "id": "d0680b1d-57ac-46df-915e-aeba29d32f50",
   "metadata": {},
   "outputs": [
    {
     "data": {
      "image/png": "[encoded data removed]",
      "text/plain": [
       "<Figure size 640x480 with 1 Axes>"
      ]
     },
     "metadata": {},
     "output_type": "display_data"
    }
   ],
   "source": [
    "# Churn Proportion for Non-Senior Citizens Pie\n",
    "label = ['No', 'Yes']\n",
    "non_senior_churn = senior_churn_rate.loc[0] \n",
    "plt.pie(non_senior_churn, labels=label, autopct='%1.1f%%',colors=['green', 'red'],startangle=90)\n",
    "plt.title('Churn Proportion for Non-Senior Citizens')\n",
    "# plt.savefig(\"Plot/Churn Proportion for Non-Senior Citizens.png\")\n",
    "plt.show()\n"
   ]
  },
  {
   "cell_type": "code",
   "execution_count": 21,
   "id": "769bb8c0-3c0a-492c-b702-3ea84355552e",
   "metadata": {},
   "outputs": [
    {
     "data": {
      "image/png": "[encoded data removed]",
      "text/plain": [
       "<Figure size 640x480 with 1 Axes>"
      ]
     },
     "metadata": {},
     "output_type": "display_data"
    }
   ],
   "source": [
    "# Churn Proportion for Senior Citizens Pie\n",
    "label = ['No', 'Yes']\n",
    "senior_churn = senior_churn_rate.loc[1] \n",
    "plt.pie(senior_churn, labels=label, autopct='%1.1f%%',colors=['green', 'red'],startangle=120)\n",
    "plt.title('Churn Proportion for Senior Citizens')\n",
    "# plt.savefig(\"Plot/Churn Proportion for Senior Citizens.png\")\n",
    "plt.show()"
   ]
  },
  {
   "cell_type": "code",
   "execution_count": 22,
   "id": "445c7f25-d3ed-46e1-82b7-936c1c66da2f",
   "metadata": {},
   "outputs": [
    {
     "data": {
      "text/plain": [
       "<Axes: xlabel='SeniorCitizen', ylabel='Proportion'>"
      ]
     },
     "execution_count": 22,
     "metadata": {},
     "output_type": "execute_result"
    },
    {
     "data": {
      "image/png": "[encoded data removed]",
      "text/plain": [
       "<Figure size 640x480 with 1 Axes>"
      ]
     },
     "metadata": {},
     "output_type": "display_data"
    }
   ],
   "source": [
    "#Churn Proportion for Non-Senior and Senior Citizens Bar Chart\n",
    "senior_churn_rate.index = senior_churn_rate.index.map({0: 'No', 1: 'Yes'})\n",
    "senior_churn_rate.plot(kind=\"bar\", ylabel='Proportion', xlabel='SeniorCitizen', color=['green', 'red'],rot=0)\n",
    "# plt.savefig(\"Plot/Churn Proportion Bar.png\")"
   ]
  },
  {
   "cell_type": "code",
   "execution_count": 23,
   "id": "3d137ddd-01be-4ee5-8357-68cee54374cb",
   "metadata": {},
   "outputs": [
    {
     "name": "stdout",
     "output_type": "stream",
     "text": [
      "chi2_stat-value: 158.4408162893713\n",
      "P-value: 2.4792557203954705e-36\n",
      "dof-value: 1\n"
     ]
    }
   ],
   "source": [
    "# Perform chi-square test\n",
    "contingency_table = pd.crosstab(data_churn['SeniorCitizen'], data_churn['Churn'])\n",
    "chi2_stat, p_value, dof, expected = chi2_contingency(contingency_table)\n",
    "print(\"chi2_stat-value:\", chi2_stat)\n",
    "print(\"P-value:\", p_value)\n",
    "print(\"dof-value:\", dof)"
   ]
  },
  {
   "cell_type": "code",
   "execution_count": 24,
   "id": "8ff320a6-8a87-4b37-88ab-6d5d80141e90",
   "metadata": {},
   "outputs": [],
   "source": [
    "# counting how many additional services the customers have and calculating churn rate for each group\n",
    "additional_services = ['StreamingTV', 'StreamingMovies', 'DeviceProtection', 'TechSupport','OnlineBackup','OnlineSecurity']\n",
    "data_churn['number_additional_services'] = data_churn[additional_services].apply(lambda x: x.eq('Yes').sum(), axis=1)\n",
    "additional_services_churn_rate = data_churn.groupby('number_additional_services')['Churn'].value_counts(normalize=True).unstack().fillna(0)\n"
   ]
  },
  {
   "cell_type": "code",
   "execution_count": 25,
   "id": "85e31c55-4bd2-4f29-9f0d-f2fb0aa02f05",
   "metadata": {},
   "outputs": [
    {
     "name": "stdout",
     "output_type": "stream",
     "text": [
      "chi2_stat-value: 389.04415274003037\n",
      "P-value: 6.3315288479146875e-81\n",
      "dof-value: 6\n"
     ]
    }
   ],
   "source": [
    "# Perform chi-square test for qualitative (categorical) Column\n",
    "contingency_table_services = pd.crosstab(data_churn['number_additional_services'], data_churn['Churn'])\n",
    "chi2_stat, p_value, dof, expected = chi2_contingency(contingency_table_services)\n",
    "print(\"chi2_stat-value:\", chi2_stat)\n",
    "print(\"P-value:\", p_value)\n",
    "print(\"dof-value:\", dof)"
   ]
  },
  {
   "cell_type": "code",
   "execution_count": 26,
   "id": "0f4bb05f-31f5-49a7-9f42-7ea5680fa365",
   "metadata": {},
   "outputs": [
    {
     "data": {
      "image/png": "[encoded data removed]",
      "text/plain": [
       "<Figure size 640x480 with 1 Axes>"
      ]
     },
     "metadata": {},
     "output_type": "display_data"
    }
   ],
   "source": [
    "#Number of Additional Services vs Churn BarChart\n",
    "services_churn_counts = data_churn.groupby('number_additional_services')['Churn'].value_counts().unstack()\n",
    "services_churn_counts.plot(kind='bar', stacked=True,color=['green', 'red'],rot=0)\n",
    "plt.title('Number of Additional Services vs Churn')\n",
    "plt.xlabel('Number of Additional Services')\n",
    "plt.ylabel('Customer Count')\n",
    "plt.legend(title='Churn', loc='upper right')\n",
    "# plt.savefig(\"Plot/Number of Additional Services vs Churn.png\")\n",
    "plt.show()"
   ]
  },
  {
   "cell_type": "code",
   "execution_count": 27,
   "id": "eed35c0b-0541-4fc6-9515-58946a5235c5",
   "metadata": {},
   "outputs": [
    {
     "data": {
      "image/png": "[encoded data removed]",
      "text/plain": [
       "<Figure size 640x480 with 1 Axes>"
      ]
     },
     "metadata": {},
     "output_type": "display_data"
    }
   ],
   "source": [
    "#Monthly Charges by Churn Box Plot\n",
    "data_churn.boxplot(column='MonthlyCharges', by='Churn')\n",
    "plt.title('Monthly Charges by Churn')\n",
    "plt.suptitle('')\n",
    "plt.xlabel('Churn')\n",
    "plt.ylabel('Monthly Charges')\n",
    "# plt.savefig(\"Plot/Monthly Charges by Churnboxplot.png\")\n",
    "plt.show()"
   ]
  },
  {
   "cell_type": "code",
   "execution_count": 29,
   "id": "9c7a503e-8e9a-42b8-9d72-f0f8411c6129",
   "metadata": {},
   "outputs": [
    {
     "data": {
      "image/png": "[encoded data removed]",
      "text/plain": [
       "<Figure size 640x480 with 2 Axes>"
      ]
     },
     "metadata": {},
     "output_type": "display_data"
    }
   ],
   "source": [
    "# Selecting numerical columns for the correlation matrix and Plotting the heatmap- Using this page as guide https://matplotlib.org/stable/gallery/images_contours_and_fields/image_annotated_heatmap.html\n",
    "fig, ax = plt.subplots()\n",
    "numerical_columns = ['tenure', 'MonthlyCharges', 'TotalCharges']\n",
    "correlation_matrix = data_churn[numerical_columns].corr()\n",
    "cax = ax.matshow(correlation_matrix, cmap='Spectral')\n",
    "plt.colorbar(cax)\n",
    "ax.set_xticks(np.arange(len(numerical_columns)))\n",
    "ax.set_yticks(np.arange(len(numerical_columns)))\n",
    "ax.set_xticklabels(numerical_columns,rotation=-30, ha=\"right\", rotation_mode=\"anchor\")\n",
    "ax.set_yticklabels(numerical_columns)\n",
    "\n",
    "for i in range(len(numerical_columns)):\n",
    "    for j in range(len(numerical_columns)):\n",
    "        plt.text(j, i, f\"{correlation_matrix.iloc[i, j]:.2f}\", ha='center', va='center', color='black')\n",
    "\n",
    "plt.title('Correlation Heatmap of Numerical Features')\n",
    "# plt.savefig(\"Plot/Correlation Heatmap of Numerical Features.png\")\n",
    "plt.show()"
   ]
  }
 ],
 "metadata": {
  "kernelspec": {
   "display_name": "Python 3 (ipykernel)",
   "language": "python",
   "name": "python3"
  },
  "language_info": {
   "codemirror_mode": {
    "name": "ipython",
    "version": 3
   },
   "file_extension": ".py",
   "mimetype": "text/x-python",
   "name": "python",
   "nbconvert_exporter": "python",
   "pygments_lexer": "ipython3",
   "version": "3.12.7"
  }
 },
 "nbformat": 4,
 "nbformat_minor": 5
}
